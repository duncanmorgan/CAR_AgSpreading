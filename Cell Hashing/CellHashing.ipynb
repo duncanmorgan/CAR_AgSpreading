{
 "cells": [
  {
   "cell_type": "code",
   "execution_count": 1,
   "metadata": {},
   "outputs": [
    {
     "name": "stderr",
     "output_type": "stream",
     "text": [
      "Warning message:\n",
      "\"package 'Seurat' was built under R version 4.1.3\"\n",
      "Attaching SeuratObject\n",
      "\n",
      "Attaching sp\n",
      "\n",
      "Warning message:\n",
      "\"package 'dplyr' was built under R version 4.1.3\"\n",
      "\n",
      "Attaching package: 'dplyr'\n",
      "\n",
      "\n",
      "The following objects are masked from 'package:stats':\n",
      "\n",
      "    filter, lag\n",
      "\n",
      "\n",
      "The following objects are masked from 'package:base':\n",
      "\n",
      "    intersect, setdiff, setequal, union\n",
      "\n",
      "\n"
     ]
    },
    {
     "data": {
      "text/html": [
       "<table class=\"dataframe\">\n",
       "<caption>A data.frame: 6 × 11</caption>\n",
       "<thead>\n",
       "\t<tr><th></th><th scope=col>HTO1.ACCCACCAGTAAGAC</th><th scope=col>HTO2.GGTCGAGAGCATTCA</th><th scope=col>HTO3.CTTGCCGCATGTCAT</th><th scope=col>HTO4.AAAGCATTCTTCACG</th><th scope=col>HTO5.CTTTGTCTTTGTGAG</th><th scope=col>HTO6.TATGCTGCCACGGTA</th><th scope=col>HTO7.GAGTCTGCCAGTATC</th><th scope=col>HTO8.TATAGAACGCCAGGC</th><th scope=col>HTO9.TGCCTATGAAACAAG</th><th scope=col>HTO10.CCGATTGTAACAGAC</th><th scope=col>unmapped</th></tr>\n",
       "\t<tr><th></th><th scope=col>&lt;int&gt;</th><th scope=col>&lt;int&gt;</th><th scope=col>&lt;int&gt;</th><th scope=col>&lt;int&gt;</th><th scope=col>&lt;int&gt;</th><th scope=col>&lt;int&gt;</th><th scope=col>&lt;int&gt;</th><th scope=col>&lt;int&gt;</th><th scope=col>&lt;int&gt;</th><th scope=col>&lt;int&gt;</th><th scope=col>&lt;int&gt;</th></tr>\n",
       "</thead>\n",
       "<tbody>\n",
       "\t<tr><th scope=row>R1CGGAATTTATCG</th><td>0</td><td>0</td><td>0</td><td>0</td><td>0</td><td> 79</td><td>110</td><td>111</td><td>42</td><td> 40</td><td>44</td></tr>\n",
       "\t<tr><th scope=row>R1TGTTGAAGATAG</th><td>0</td><td>0</td><td>0</td><td>0</td><td>0</td><td>  3</td><td>  5</td><td>333</td><td> 5</td><td>  2</td><td>82</td></tr>\n",
       "\t<tr><th scope=row>R1CTTGCCCTAAAA</th><td>0</td><td>0</td><td>0</td><td>0</td><td>0</td><td> 54</td><td> 75</td><td>329</td><td>28</td><td> 28</td><td>89</td></tr>\n",
       "\t<tr><th scope=row>R1CCCAGCCAGTCG</th><td>0</td><td>0</td><td>0</td><td>0</td><td>0</td><td>  3</td><td> 27</td><td>204</td><td> 7</td><td>  2</td><td>70</td></tr>\n",
       "\t<tr><th scope=row>R1AATGCATTATCC</th><td>0</td><td>0</td><td>0</td><td>0</td><td>0</td><td>128</td><td>214</td><td>148</td><td>51</td><td> 62</td><td>78</td></tr>\n",
       "\t<tr><th scope=row>R1GAGGCCCGGTCG</th><td>0</td><td>0</td><td>0</td><td>0</td><td>0</td><td> 11</td><td> 13</td><td> 21</td><td>12</td><td>213</td><td>70</td></tr>\n",
       "</tbody>\n",
       "</table>\n"
      ],
      "text/latex": [
       "A data.frame: 6 × 11\n",
       "\\begin{tabular}{r|lllllllllll}\n",
       "  & HTO1.ACCCACCAGTAAGAC & HTO2.GGTCGAGAGCATTCA & HTO3.CTTGCCGCATGTCAT & HTO4.AAAGCATTCTTCACG & HTO5.CTTTGTCTTTGTGAG & HTO6.TATGCTGCCACGGTA & HTO7.GAGTCTGCCAGTATC & HTO8.TATAGAACGCCAGGC & HTO9.TGCCTATGAAACAAG & HTO10.CCGATTGTAACAGAC & unmapped\\\\\n",
       "  & <int> & <int> & <int> & <int> & <int> & <int> & <int> & <int> & <int> & <int> & <int>\\\\\n",
       "\\hline\n",
       "\tR1CGGAATTTATCG & 0 & 0 & 0 & 0 & 0 &  79 & 110 & 111 & 42 &  40 & 44\\\\\n",
       "\tR1TGTTGAAGATAG & 0 & 0 & 0 & 0 & 0 &   3 &   5 & 333 &  5 &   2 & 82\\\\\n",
       "\tR1CTTGCCCTAAAA & 0 & 0 & 0 & 0 & 0 &  54 &  75 & 329 & 28 &  28 & 89\\\\\n",
       "\tR1CCCAGCCAGTCG & 0 & 0 & 0 & 0 & 0 &   3 &  27 & 204 &  7 &   2 & 70\\\\\n",
       "\tR1AATGCATTATCC & 0 & 0 & 0 & 0 & 0 & 128 & 214 & 148 & 51 &  62 & 78\\\\\n",
       "\tR1GAGGCCCGGTCG & 0 & 0 & 0 & 0 & 0 &  11 &  13 &  21 & 12 & 213 & 70\\\\\n",
       "\\end{tabular}\n"
      ],
      "text/markdown": [
       "\n",
       "A data.frame: 6 × 11\n",
       "\n",
       "| <!--/--> | HTO1.ACCCACCAGTAAGAC &lt;int&gt; | HTO2.GGTCGAGAGCATTCA &lt;int&gt; | HTO3.CTTGCCGCATGTCAT &lt;int&gt; | HTO4.AAAGCATTCTTCACG &lt;int&gt; | HTO5.CTTTGTCTTTGTGAG &lt;int&gt; | HTO6.TATGCTGCCACGGTA &lt;int&gt; | HTO7.GAGTCTGCCAGTATC &lt;int&gt; | HTO8.TATAGAACGCCAGGC &lt;int&gt; | HTO9.TGCCTATGAAACAAG &lt;int&gt; | HTO10.CCGATTGTAACAGAC &lt;int&gt; | unmapped &lt;int&gt; |\n",
       "|---|---|---|---|---|---|---|---|---|---|---|---|\n",
       "| R1CGGAATTTATCG | 0 | 0 | 0 | 0 | 0 |  79 | 110 | 111 | 42 |  40 | 44 |\n",
       "| R1TGTTGAAGATAG | 0 | 0 | 0 | 0 | 0 |   3 |   5 | 333 |  5 |   2 | 82 |\n",
       "| R1CTTGCCCTAAAA | 0 | 0 | 0 | 0 | 0 |  54 |  75 | 329 | 28 |  28 | 89 |\n",
       "| R1CCCAGCCAGTCG | 0 | 0 | 0 | 0 | 0 |   3 |  27 | 204 |  7 |   2 | 70 |\n",
       "| R1AATGCATTATCC | 0 | 0 | 0 | 0 | 0 | 128 | 214 | 148 | 51 |  62 | 78 |\n",
       "| R1GAGGCCCGGTCG | 0 | 0 | 0 | 0 | 0 |  11 |  13 |  21 | 12 | 213 | 70 |\n",
       "\n"
      ],
      "text/plain": [
       "               HTO1.ACCCACCAGTAAGAC HTO2.GGTCGAGAGCATTCA HTO3.CTTGCCGCATGTCAT\n",
       "R1CGGAATTTATCG 0                    0                    0                   \n",
       "R1TGTTGAAGATAG 0                    0                    0                   \n",
       "R1CTTGCCCTAAAA 0                    0                    0                   \n",
       "R1CCCAGCCAGTCG 0                    0                    0                   \n",
       "R1AATGCATTATCC 0                    0                    0                   \n",
       "R1GAGGCCCGGTCG 0                    0                    0                   \n",
       "               HTO4.AAAGCATTCTTCACG HTO5.CTTTGTCTTTGTGAG HTO6.TATGCTGCCACGGTA\n",
       "R1CGGAATTTATCG 0                    0                     79                 \n",
       "R1TGTTGAAGATAG 0                    0                      3                 \n",
       "R1CTTGCCCTAAAA 0                    0                     54                 \n",
       "R1CCCAGCCAGTCG 0                    0                      3                 \n",
       "R1AATGCATTATCC 0                    0                    128                 \n",
       "R1GAGGCCCGGTCG 0                    0                     11                 \n",
       "               HTO7.GAGTCTGCCAGTATC HTO8.TATAGAACGCCAGGC HTO9.TGCCTATGAAACAAG\n",
       "R1CGGAATTTATCG 110                  111                  42                  \n",
       "R1TGTTGAAGATAG   5                  333                   5                  \n",
       "R1CTTGCCCTAAAA  75                  329                  28                  \n",
       "R1CCCAGCCAGTCG  27                  204                   7                  \n",
       "R1AATGCATTATCC 214                  148                  51                  \n",
       "R1GAGGCCCGGTCG  13                   21                  12                  \n",
       "               HTO10.CCGATTGTAACAGAC unmapped\n",
       "R1CGGAATTTATCG  40                   44      \n",
       "R1TGTTGAAGATAG   2                   82      \n",
       "R1CTTGCCCTAAAA  28                   89      \n",
       "R1CCCAGCCAGTCG   2                   70      \n",
       "R1AATGCATTATCC  62                   78      \n",
       "R1GAGGCCCGGTCG 213                   70      "
      ]
     },
     "metadata": {},
     "output_type": "display_data"
    }
   ],
   "source": [
    "library(Seurat)\n",
    "library(dplyr)\n",
    "seurat = readRDS('../initialseurat.RDS')\n",
    "hashdata = read.csv('citeseq_results_dense.csv', header = 1, stringsAsFactors = FALSE, row.names = 1, sep = ',') #%>% t()\n",
    "head(hashdata)"
   ]
  },
  {
   "cell_type": "code",
   "execution_count": 2,
   "metadata": {},
   "outputs": [],
   "source": [
    "metaex = read.table('../LMCarT_meta.txt', sep = ',', header = 1, row.names =1 )"
   ]
  },
  {
   "cell_type": "code",
   "execution_count": 3,
   "metadata": {},
   "outputs": [
    {
     "data": {
      "text/html": [
       "<table class=\"dataframe\">\n",
       "<caption>A data.frame: 6 × 8</caption>\n",
       "<thead>\n",
       "\t<tr><th></th><th scope=col>orig</th><th scope=col>bc</th><th scope=col>n_genes</th><th scope=col>n_counts</th><th scope=col>leiden</th><th scope=col>id</th><th scope=col>Treatment</th><th scope=col>TimePoint</th></tr>\n",
       "\t<tr><th></th><th scope=col>&lt;chr&gt;</th><th scope=col>&lt;chr&gt;</th><th scope=col>&lt;int&gt;</th><th scope=col>&lt;dbl&gt;</th><th scope=col>&lt;int&gt;</th><th scope=col>&lt;chr&gt;</th><th scope=col>&lt;chr&gt;</th><th scope=col>&lt;chr&gt;</th></tr>\n",
       "</thead>\n",
       "<tbody>\n",
       "\t<tr><th scope=row>Q1_0</th><td>Q1</td><td>AAAAAAAGCCCC</td><td>1730</td><td> 3428</td><td>4</td><td>Q1AAAAAAAGCCCC</td><td>NoVax</td><td>7day</td></tr>\n",
       "\t<tr><th scope=row>Q1_1</th><td>Q1</td><td>AAAAAAGATAGA</td><td> 841</td><td> 2090</td><td>0</td><td>Q1AAAAAAGATAGA</td><td>NoVax</td><td>7day</td></tr>\n",
       "\t<tr><th scope=row>Q1_2</th><td>Q1</td><td>AAAAACTCACGC</td><td>3914</td><td>12815</td><td>3</td><td>Q1AAAAACTCACGC</td><td>NoVax</td><td>7day</td></tr>\n",
       "\t<tr><th scope=row>Q1_3</th><td>Q1</td><td>AAAAAGATACTA</td><td>1080</td><td> 1844</td><td>3</td><td>Q1AAAAAGATACTA</td><td>NoVax</td><td>7day</td></tr>\n",
       "\t<tr><th scope=row>Q1_4</th><td>Q1</td><td>AAAAAGATTACC</td><td> 919</td><td> 3151</td><td>3</td><td>Q1AAAAAGATTACC</td><td>NoVax</td><td>7day</td></tr>\n",
       "\t<tr><th scope=row>Q1_5</th><td>Q1</td><td>AAAAAGCAAGTA</td><td>1879</td><td> 4458</td><td>1</td><td>Q1AAAAAGCAAGTA</td><td>NoVax</td><td>7day</td></tr>\n",
       "</tbody>\n",
       "</table>\n"
      ],
      "text/latex": [
       "A data.frame: 6 × 8\n",
       "\\begin{tabular}{r|llllllll}\n",
       "  & orig & bc & n\\_genes & n\\_counts & leiden & id & Treatment & TimePoint\\\\\n",
       "  & <chr> & <chr> & <int> & <dbl> & <int> & <chr> & <chr> & <chr>\\\\\n",
       "\\hline\n",
       "\tQ1\\_0 & Q1 & AAAAAAAGCCCC & 1730 &  3428 & 4 & Q1AAAAAAAGCCCC & NoVax & 7day\\\\\n",
       "\tQ1\\_1 & Q1 & AAAAAAGATAGA &  841 &  2090 & 0 & Q1AAAAAAGATAGA & NoVax & 7day\\\\\n",
       "\tQ1\\_2 & Q1 & AAAAACTCACGC & 3914 & 12815 & 3 & Q1AAAAACTCACGC & NoVax & 7day\\\\\n",
       "\tQ1\\_3 & Q1 & AAAAAGATACTA & 1080 &  1844 & 3 & Q1AAAAAGATACTA & NoVax & 7day\\\\\n",
       "\tQ1\\_4 & Q1 & AAAAAGATTACC &  919 &  3151 & 3 & Q1AAAAAGATTACC & NoVax & 7day\\\\\n",
       "\tQ1\\_5 & Q1 & AAAAAGCAAGTA & 1879 &  4458 & 1 & Q1AAAAAGCAAGTA & NoVax & 7day\\\\\n",
       "\\end{tabular}\n"
      ],
      "text/markdown": [
       "\n",
       "A data.frame: 6 × 8\n",
       "\n",
       "| <!--/--> | orig &lt;chr&gt; | bc &lt;chr&gt; | n_genes &lt;int&gt; | n_counts &lt;dbl&gt; | leiden &lt;int&gt; | id &lt;chr&gt; | Treatment &lt;chr&gt; | TimePoint &lt;chr&gt; |\n",
       "|---|---|---|---|---|---|---|---|---|\n",
       "| Q1_0 | Q1 | AAAAAAAGCCCC | 1730 |  3428 | 4 | Q1AAAAAAAGCCCC | NoVax | 7day |\n",
       "| Q1_1 | Q1 | AAAAAAGATAGA |  841 |  2090 | 0 | Q1AAAAAAGATAGA | NoVax | 7day |\n",
       "| Q1_2 | Q1 | AAAAACTCACGC | 3914 | 12815 | 3 | Q1AAAAACTCACGC | NoVax | 7day |\n",
       "| Q1_3 | Q1 | AAAAAGATACTA | 1080 |  1844 | 3 | Q1AAAAAGATACTA | NoVax | 7day |\n",
       "| Q1_4 | Q1 | AAAAAGATTACC |  919 |  3151 | 3 | Q1AAAAAGATTACC | NoVax | 7day |\n",
       "| Q1_5 | Q1 | AAAAAGCAAGTA | 1879 |  4458 | 1 | Q1AAAAAGCAAGTA | NoVax | 7day |\n",
       "\n"
      ],
      "text/plain": [
       "     orig bc           n_genes n_counts leiden id             Treatment\n",
       "Q1_0 Q1   AAAAAAAGCCCC 1730     3428    4      Q1AAAAAAAGCCCC NoVax    \n",
       "Q1_1 Q1   AAAAAAGATAGA  841     2090    0      Q1AAAAAAGATAGA NoVax    \n",
       "Q1_2 Q1   AAAAACTCACGC 3914    12815    3      Q1AAAAACTCACGC NoVax    \n",
       "Q1_3 Q1   AAAAAGATACTA 1080     1844    3      Q1AAAAAGATACTA NoVax    \n",
       "Q1_4 Q1   AAAAAGATTACC  919     3151    3      Q1AAAAAGATTACC NoVax    \n",
       "Q1_5 Q1   AAAAAGCAAGTA 1879     4458    1      Q1AAAAAGCAAGTA NoVax    \n",
       "     TimePoint\n",
       "Q1_0 7day     \n",
       "Q1_1 7day     \n",
       "Q1_2 7day     \n",
       "Q1_3 7day     \n",
       "Q1_4 7day     \n",
       "Q1_5 7day     "
      ]
     },
     "metadata": {},
     "output_type": "display_data"
    }
   ],
   "source": [
    "head(metaex)"
   ]
  },
  {
   "cell_type": "code",
   "execution_count": 4,
   "metadata": {},
   "outputs": [
    {
     "data": {
      "text/plain": [
       "An old seurat object\n",
       " 17039 genes across 53901 samples"
      ]
     },
     "metadata": {},
     "output_type": "display_data"
    }
   ],
   "source": [
    "seurat"
   ]
  },
  {
   "cell_type": "code",
   "execution_count": 5,
   "metadata": {},
   "outputs": [
    {
     "name": "stderr",
     "output_type": "stream",
     "text": [
      "Updating from v2.X to v3.X\n",
      "\n",
      "Validating object structure\n",
      "\n",
      "Updating object slots\n",
      "\n",
      "Ensuring keys are in the proper strucutre\n",
      "\n",
      "Ensuring feature names don't have underscores or pipes\n",
      "\n",
      "Object representation is consistent with the most current Seurat version\n",
      "\n"
     ]
    }
   ],
   "source": [
    "seurat = UpdateSeuratObject(seurat)"
   ]
  },
  {
   "cell_type": "code",
   "execution_count": 6,
   "metadata": {},
   "outputs": [
    {
     "data": {
      "text/html": [
       "<style>\n",
       ".dl-inline {width: auto; margin:0; padding: 0}\n",
       ".dl-inline>dt, .dl-inline>dd {float: none; width: auto; display: inline-block}\n",
       ".dl-inline>dt::after {content: \":\\0020\"; padding-right: .5ex}\n",
       ".dl-inline>dt:not(:first-of-type) {padding-left: .5ex}\n",
       "</style><dl class=dl-inline><dt>Q1_0</dt><dd>'Q1AAAAAAAGCCCC'</dd><dt>Q1_1</dt><dd>'Q1AAAAAAGATAGA'</dd><dt>Q1_2</dt><dd>'Q1AAAAACTCACGC'</dd><dt>Q1_3</dt><dd>'Q1AAAAAGATACTA'</dd><dt>Q1_4</dt><dd>'Q1AAAAAGATTACC'</dd><dt>Q1_5</dt><dd>'Q1AAAAAGCAAGTA'</dd></dl>\n"
      ],
      "text/latex": [
       "\\begin{description*}\n",
       "\\item[Q1\\textbackslash{}\\_0] 'Q1AAAAAAAGCCCC'\n",
       "\\item[Q1\\textbackslash{}\\_1] 'Q1AAAAAAGATAGA'\n",
       "\\item[Q1\\textbackslash{}\\_2] 'Q1AAAAACTCACGC'\n",
       "\\item[Q1\\textbackslash{}\\_3] 'Q1AAAAAGATACTA'\n",
       "\\item[Q1\\textbackslash{}\\_4] 'Q1AAAAAGATTACC'\n",
       "\\item[Q1\\textbackslash{}\\_5] 'Q1AAAAAGCAAGTA'\n",
       "\\end{description*}\n"
      ],
      "text/markdown": [
       "Q1_0\n",
       ":   'Q1AAAAAAAGCCCC'Q1_1\n",
       ":   'Q1AAAAAAGATAGA'Q1_2\n",
       ":   'Q1AAAAACTCACGC'Q1_3\n",
       ":   'Q1AAAAAGATACTA'Q1_4\n",
       ":   'Q1AAAAAGATTACC'Q1_5\n",
       ":   'Q1AAAAAGCAAGTA'\n",
       "\n"
      ],
      "text/plain": [
       "            Q1_0             Q1_1             Q1_2             Q1_3 \n",
       "\"Q1AAAAAAAGCCCC\" \"Q1AAAAAAGATAGA\" \"Q1AAAAACTCACGC\" \"Q1AAAAAGATACTA\" \n",
       "            Q1_4             Q1_5 \n",
       "\"Q1AAAAAGATTACC\" \"Q1AAAAAGCAAGTA\" "
      ]
     },
     "metadata": {},
     "output_type": "display_data"
    },
    {
     "data": {
      "text/plain": [
       "An object of class Seurat \n",
       "17039 features across 53650 samples within 1 assay \n",
       "Active assay: RNA (17039 features, 220 variable features)\n",
       " 2 dimensional reductions calculated: pca, umap"
      ]
     },
     "metadata": {},
     "output_type": "display_data"
    }
   ],
   "source": [
    "seurat$id = paste0(seurat$orig,  seurat$bc)\n",
    "head(seurat$id)\n",
    "seurat = subset(seurat, cell = colnames(seurat)[seurat$id %in% rownames(hashdata)])\n",
    "seurat"
   ]
  },
  {
   "cell_type": "code",
   "execution_count": 7,
   "metadata": {},
   "outputs": [],
   "source": [
    "hash_mat = hashdata[seurat$id, 1:10]\n",
    "bcs_to_names = colnames(seurat)\n",
    "names(bcs_to_names) = seurat$id\n",
    "rownames(hash_mat) = bcs_to_names[rownames(hash_mat)]"
   ]
  },
  {
   "cell_type": "code",
   "execution_count": 8,
   "metadata": {},
   "outputs": [],
   "source": [
    "seurat[['HTO']] = CreateAssayObject(counts = t(hash_mat))\n",
    "#seurat = subset(seurat, cells =colnames(seurat)[seurat$n_genes > 1000])"
   ]
  },
  {
   "cell_type": "code",
   "execution_count": 9,
   "metadata": {},
   "outputs": [],
   "source": [
    "seurat = subset(seurat, cells = colnames(seurat)[seurat@meta.data$nCount_HTO > 30])"
   ]
  },
  {
   "cell_type": "code",
   "execution_count": 10,
   "metadata": {},
   "outputs": [
    {
     "name": "stderr",
     "output_type": "stream",
     "text": [
      "\n",
      "Attaching package: 'MASS'\n",
      "\n",
      "\n",
      "The following object is masked from 'package:dplyr':\n",
      "\n",
      "    select\n",
      "\n",
      "\n",
      "Warning message:\n",
      "\"package 'outliers' was built under R version 4.1.1\"\n",
      "Q1\n",
      "\n",
      "Normalizing across cells\n",
      "\n"
     ]
    },
    {
     "name": "stdout",
     "output_type": "stream",
     "text": [
      "Q1_2974 \n",
      "      3 \n",
      "[1] 0.6137013\n",
      "Q1_2836 \n",
      "      5 \n",
      "[1] 1.285556\n",
      "Q1_1060 \n",
      "      2 \n",
      "[1] 1.544092\n",
      "Q1_2861 \n",
      "      4 \n",
      "[1] 1.162945\n",
      "Q1_3854 \n",
      "      1 \n",
      "[1] 0.7377633\n"
     ]
    },
    {
     "name": "stderr",
     "output_type": "stream",
     "text": [
      "Q2\n",
      "\n",
      "Normalizing across cells\n",
      "\n"
     ]
    },
    {
     "name": "stdout",
     "output_type": "stream",
     "text": [
      "Q2_5758 \n",
      "      5 \n",
      "[1] 0.6818403\n",
      "Q2_6318 \n",
      "      4 \n",
      "[1] 0.8820031\n",
      "Q2_4448 \n",
      "      3 \n",
      "[1] 0.7930894\n",
      "Q2_34 \n",
      "    1 \n",
      "[1] 0.9033631\n",
      "Q2_6014 \n",
      "      2 \n",
      "[1] 0.6135518\n"
     ]
    },
    {
     "name": "stderr",
     "output_type": "stream",
     "text": [
      "Q3\n",
      "\n",
      "Normalizing across cells\n",
      "\n"
     ]
    },
    {
     "name": "stdout",
     "output_type": "stream",
     "text": [
      "Q3_1781 \n",
      "      4 \n",
      "[1] 0.8504136\n",
      "Q3_1845 \n",
      "      5 \n",
      "[1] 1.35326\n",
      "Q3_3087 \n",
      "      1 \n",
      "[1] 1.263586\n",
      "Q3_263 \n",
      "     3 \n",
      "[1] 1.467949\n",
      "Q3_479 \n",
      "     2 \n",
      "[1] 0.7686914\n"
     ]
    },
    {
     "name": "stderr",
     "output_type": "stream",
     "text": [
      "Q4\n",
      "\n",
      "Normalizing across cells\n",
      "\n"
     ]
    },
    {
     "name": "stdout",
     "output_type": "stream",
     "text": [
      "Q4_451 \n",
      "     5 \n",
      "[1] 0.631799\n",
      "Q4_4607 \n",
      "      3 \n",
      "[1] 0.8700358\n",
      "Q4_2614 \n",
      "      1 \n",
      "[1] 0.9267041\n",
      "Q4_4183 \n",
      "      4 \n",
      "[1] 0.9927615\n",
      "Q4_4473 \n",
      "      2 \n",
      "[1] 0.5644574\n"
     ]
    },
    {
     "name": "stderr",
     "output_type": "stream",
     "text": [
      "Q5\n",
      "\n",
      "Normalizing across cells\n",
      "\n"
     ]
    },
    {
     "name": "stdout",
     "output_type": "stream",
     "text": [
      "Q5_6070 \n",
      "      3 \n",
      "[1] 0\n"
     ]
    },
    {
     "name": "stderr",
     "output_type": "stream",
     "text": [
      "danger\n",
      "\n"
     ]
    },
    {
     "name": "stdout",
     "output_type": "stream",
     "text": [
      "Q5_1139 \n",
      "      2 \n",
      "[1] 1.878824\n",
      "Q5_4486 \n",
      "      4 \n",
      "[1] 1.767531\n",
      "Q5_3066 \n",
      "      1 \n",
      "[1] 1.924176\n",
      "Q5_5672 \n",
      "      5 \n",
      "[1] 1.502269\n"
     ]
    },
    {
     "name": "stderr",
     "output_type": "stream",
     "text": [
      "R1\n",
      "\n",
      "Normalizing across cells\n",
      "\n"
     ]
    },
    {
     "name": "stdout",
     "output_type": "stream",
     "text": [
      "R1_233 \n",
      "     5 \n",
      "[1] 1.849344\n",
      "R1_4575 \n",
      "      4 \n",
      "[1] 2.120338\n",
      "R1_3006 \n",
      "      3 \n",
      "[1] 2.061173\n",
      "R1_3577 \n",
      "      1 \n",
      "[1] 0\n"
     ]
    },
    {
     "name": "stderr",
     "output_type": "stream",
     "text": [
      "danger\n",
      "\n"
     ]
    },
    {
     "name": "stdout",
     "output_type": "stream",
     "text": [
      "R1_1970 \n",
      "      2 \n",
      "[1] 1.410737\n"
     ]
    },
    {
     "name": "stderr",
     "output_type": "stream",
     "text": [
      "R2\n",
      "\n",
      "Normalizing across cells\n",
      "\n"
     ]
    },
    {
     "name": "stdout",
     "output_type": "stream",
     "text": [
      "R2_1131 \n",
      "      5 \n",
      "[1] 1.78902\n",
      "R2_1041 \n",
      "      2 \n",
      "[1] 2.165991\n",
      "R2_727 \n",
      "     1 \n",
      "[1] 1.980155\n",
      "R2_2334 \n",
      "      3 \n",
      "[1] 0\n"
     ]
    },
    {
     "name": "stderr",
     "output_type": "stream",
     "text": [
      "danger\n",
      "\n"
     ]
    },
    {
     "name": "stdout",
     "output_type": "stream",
     "text": [
      "R2_5116 \n",
      "      4 \n",
      "[1] 1.287242\n"
     ]
    },
    {
     "name": "stderr",
     "output_type": "stream",
     "text": [
      "R3\n",
      "\n",
      "Normalizing across cells\n",
      "\n"
     ]
    },
    {
     "name": "stdout",
     "output_type": "stream",
     "text": [
      "R3_1818 \n",
      "      1 \n",
      "[1] 0.9129488\n",
      "R3_2837 \n",
      "      2 \n",
      "[1] 1.002414\n",
      "R3_794 \n",
      "     3 \n",
      "[1] 1.214155\n",
      "R3_2715 \n",
      "      5 \n",
      "[1] 0.918795\n",
      "R3_619 \n",
      "     4 \n",
      "[1] 0.6818893\n"
     ]
    },
    {
     "name": "stderr",
     "output_type": "stream",
     "text": [
      "R4\n",
      "\n",
      "Normalizing across cells\n",
      "\n"
     ]
    },
    {
     "name": "stdout",
     "output_type": "stream",
     "text": [
      "R4_1703 \n",
      "      5 \n",
      "[1] 1.618417\n",
      "R4_96 \n",
      "    2 \n",
      "[1] 2.061064\n",
      "R4_1828 \n",
      "      3 \n",
      "[1] 2.215298\n",
      "R4_1663 \n",
      "      1 \n",
      "[1] 0\n"
     ]
    },
    {
     "name": "stderr",
     "output_type": "stream",
     "text": [
      "danger\n",
      "\n"
     ]
    },
    {
     "name": "stdout",
     "output_type": "stream",
     "text": [
      "R4_1301 \n",
      "      4 \n",
      "[1] 1.620395\n"
     ]
    },
    {
     "name": "stderr",
     "output_type": "stream",
     "text": [
      "R5\n",
      "\n",
      "Normalizing across cells\n",
      "\n"
     ]
    },
    {
     "name": "stdout",
     "output_type": "stream",
     "text": [
      "R5_3992 \n",
      "      5 \n",
      "[1] 1.694862\n",
      "R5_340 \n",
      "     4 \n",
      "[1] 1.873742\n",
      "R5_1020 \n",
      "      1 \n",
      "[1] 2.043756\n",
      "R5_1408 \n",
      "      2 \n",
      "[1] 0\n"
     ]
    },
    {
     "name": "stderr",
     "output_type": "stream",
     "text": [
      "danger\n",
      "\n"
     ]
    },
    {
     "name": "stdout",
     "output_type": "stream",
     "text": [
      "R5_3889 \n",
      "      3 \n",
      "[1] 1.576289\n"
     ]
    },
    {
     "name": "stderr",
     "output_type": "stream",
     "text": [
      "R6\n",
      "\n",
      "Normalizing across cells\n",
      "\n"
     ]
    },
    {
     "name": "stdout",
     "output_type": "stream",
     "text": [
      "R6_3538 \n",
      "      3 \n",
      "[1] 1.763072\n",
      "R6_3108 \n",
      "      2 \n",
      "[1] 2.010067\n",
      "R6_4590 \n",
      "      1 \n",
      "[1] 2.124084\n",
      "R6_2614 \n",
      "      4 \n",
      "[1] 0\n"
     ]
    },
    {
     "name": "stderr",
     "output_type": "stream",
     "text": [
      "danger\n",
      "\n"
     ]
    },
    {
     "name": "stdout",
     "output_type": "stream",
     "text": [
      "R6_4679 \n",
      "      5 \n",
      "[1] 1.592275\n"
     ]
    },
    {
     "name": "stderr",
     "output_type": "stream",
     "text": [
      "R7\n",
      "\n",
      "Normalizing across cells\n",
      "\n"
     ]
    },
    {
     "name": "stdout",
     "output_type": "stream",
     "text": [
      "R7_1220 \n",
      "      3 \n",
      "[1] 2.12122\n",
      "R7_1782 \n",
      "      5 \n",
      "[1] 1.556903\n",
      "R7_539 \n",
      "     4 \n",
      "[1] 1.803319\n",
      "R7_217 \n",
      "     1 \n",
      "[1] 1.423651\n",
      "R7_1325 \n",
      "      2 \n",
      "[1] 1.413151\n"
     ]
    },
    {
     "name": "stderr",
     "output_type": "stream",
     "text": [
      "R8\n",
      "\n",
      "Normalizing across cells\n",
      "\n"
     ]
    },
    {
     "name": "stdout",
     "output_type": "stream",
     "text": [
      "R8_553 \n",
      "     2 \n",
      "[1] 2.614964\n",
      "R8_712 \n",
      "     4 \n",
      "[1] 0\n"
     ]
    },
    {
     "name": "stderr",
     "output_type": "stream",
     "text": [
      "danger\n",
      "\n"
     ]
    },
    {
     "name": "stdout",
     "output_type": "stream",
     "text": [
      "R8_885 \n",
      "     1 \n",
      "[1] 2.205463\n",
      "R8_712 \n",
      "     4 \n",
      "[1] 2.213425\n",
      "R8_347 \n",
      "     5 \n",
      "[1] 1.704232\n"
     ]
    },
    {
     "name": "stderr",
     "output_type": "stream",
     "text": [
      "R9\n",
      "\n",
      "Normalizing across cells\n",
      "\n"
     ]
    },
    {
     "name": "stdout",
     "output_type": "stream",
     "text": [
      "R9_2069 \n",
      "      3 \n",
      "[1] 0\n"
     ]
    },
    {
     "name": "stderr",
     "output_type": "stream",
     "text": [
      "danger\n",
      "\n"
     ]
    },
    {
     "name": "stdout",
     "output_type": "stream",
     "text": [
      "R9_3159 \n",
      "      5 \n",
      "[1] 1.886548\n",
      "R9_2653 \n",
      "      1 \n",
      "[1] 1.884057\n",
      "R9_1946 \n",
      "      4 \n",
      "[1] 2.046992\n",
      "R9_3709 \n",
      "      2 \n",
      "[1] 1.477325\n"
     ]
    },
    {
     "name": "stderr",
     "output_type": "stream",
     "text": [
      "R10\n",
      "\n",
      "Normalizing across cells\n",
      "\n"
     ]
    },
    {
     "name": "stdout",
     "output_type": "stream",
     "text": [
      "R10_1303 \n",
      "       1 \n",
      "[1] 0\n"
     ]
    },
    {
     "name": "stderr",
     "output_type": "stream",
     "text": [
      "danger\n",
      "\n"
     ]
    },
    {
     "name": "stdout",
     "output_type": "stream",
     "text": [
      "R10_2623 \n",
      "       4 \n",
      "[1] 1.727239\n",
      "R10_3763 \n",
      "       2 \n",
      "[1] 1.72209\n",
      "R10_2189 \n",
      "       3 \n",
      "[1] 2.035441\n",
      "R10_1564 \n",
      "       5 \n",
      "[1] 1.437094\n"
     ]
    }
   ],
   "source": [
    "library(MASS)\n",
    "library(cluster)\n",
    "library(outliers)\n",
    "\n",
    "#seurat$hash = NA\n",
    "Idents(seurat) = 'orig'\n",
    "for (curr in unique(seurat$orig)) {\n",
    "    message(curr)\n",
    "    sub =subset(seurat, idents =  curr)\n",
    "    \n",
    "    if (length(colnames(sub)) > 50) {\n",
    "        if (curr %in%  c('Q1', 'Q2', 'Q3', 'Q4', 'Q5', 'R1', 'R2', 'R3', 'R4', 'R5', 'R6', 'R7', 'R8', 'R9', 'R10'))  {\n",
    "        sub[['HTO']] = CreateAssayObject(counts = t(hash_mat[colnames(sub),6:10]))\n",
    "            }\n",
    "    \n",
    "        sub = NormalizeData(sub, assay = 'HTO', normalization.method = 'CLR', margin = 2)\n",
    "\n",
    "        DefaultAssay(sub) = 'HTO'\n",
    "        data = GetAssayData(sub)\n",
    "\n",
    "\n",
    "        # k medioids\n",
    "        meds = pam(t(data), k = dim(data)[1])\n",
    "        calls = t(data)\n",
    "        cluster_data = meds$medoids %>% as.matrix()\n",
    "        \n",
    "\n",
    "        for (i in 1:dim(cluster_data)[2]) {\n",
    "            \n",
    "  \n",
    "\n",
    "            curr_med = which.max(cluster_data[,i])\n",
    "            negs = meds$clustering[meds$clustering != curr_med]\n",
    "            neg_vals = data[i, names(negs)]\n",
    "            pos_vals = data[i, meds$clustering == curr_med]\n",
    "            pos_vals = pos_vals[order(pos_vals)] \n",
    "            done = FALSE\n",
    "\n",
    "            # remove outliers and set threshold\n",
    "            while(!done & length(pos_vals) > 5) {\n",
    "                done = TRUE\n",
    "                avg = mean(pos_vals)\n",
    "                diff1 = avg - min(pos_vals)\n",
    "                diff2 = max(pos_vals) - avg\n",
    "                test = grubbs.test(pos_vals, opposite = diff1 < diff2)\n",
    "                if (test$p.value < 0.05) {\n",
    "                    pos_vals = pos_vals[-1]\n",
    "                    done = FALSE\n",
    "                }\n",
    "                thresh = min(pos_vals)\n",
    "\n",
    "            }\n",
    "            print(curr_med)\n",
    "            print(thresh)\n",
    "            if (thresh < .3) {\n",
    "                thresh = 1.5\n",
    "                message('danger')\n",
    "            }\n",
    "            \n",
    "            if (curr == 'R7') {\n",
    "                thresh = 3\n",
    "            }\n",
    "            if (curr == 'R8') {\n",
    "                thresh = 2\n",
    "            }\n",
    "            calls[,i] = as.numeric(calls[,i] >= thresh)\n",
    "            assign = apply(calls, 1, which.max)\n",
    "            \n",
    "            \n",
    "\n",
    "            assign = paste0( 'HTO', assign + 5)\n",
    "            rsums = rowSums(calls)\n",
    "            \n",
    "        \n",
    "            \n",
    "            assign[rsums > 1] = 'Doublet'\n",
    "            assign[rsums == 0] = 'Negative'\n",
    " \n",
    "            seurat@meta.data[colnames(sub), 'hash'] = assign\n",
    "            pheatmap::pheatmap(t(data), annotation_row = data.frame(row.names = colnames(data), id = factor(assign)), show_rownames = FALSE)\n",
    "\n",
    "            pheatmap::pheatmap(t(data), annotation_row = data.frame(row.names = colnames(data), id = factor(assign)), filename = paste0(curr, '.png'), show_rownames = FALSE)\n",
    "\n",
    "        }\n",
    "    }\n",
    "}"
   ]
  },
  {
   "cell_type": "code",
   "execution_count": 11,
   "metadata": {},
   "outputs": [
    {
     "data": {
      "text/plain": [
       "\n",
       " Doublet    HTO10     HTO6     HTO7     HTO8     HTO9 Negative \n",
       "    6564     8860     5880     9337     8267     5870     8793 "
      ]
     },
     "metadata": {},
     "output_type": "display_data"
    }
   ],
   "source": [
    "table(seurat@meta.data$hash)"
   ]
  },
  {
   "cell_type": "code",
   "execution_count": 12,
   "metadata": {},
   "outputs": [],
   "source": [
    "saveRDS(seurat@meta.data, 'hashed_meta.RDS')"
   ]
  }
 ],
 "metadata": {
  "kernelspec": {
   "display_name": "Rv4",
   "language": "R",
   "name": "ir4"
  },
  "language_info": {
   "codemirror_mode": "r",
   "file_extension": ".r",
   "mimetype": "text/x-r-source",
   "name": "R",
   "pygments_lexer": "r",
   "version": "4.1.0"
  }
 },
 "nbformat": 4,
 "nbformat_minor": 5
}
